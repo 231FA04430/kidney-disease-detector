{
  "nbformat": 4,
  "nbformat_minor": 0,
  "metadata": {
    "colab": {
      "provenance": [],
      "authorship_tag": "ABX9TyMCyB8DzqxgqMnT2AuuKhWJ",
      "include_colab_link": true
    },
    "kernelspec": {
      "name": "python3",
      "display_name": "Python 3"
    },
    "language_info": {
      "name": "python"
    }
  },
  "cells": [
    {
      "cell_type": "markdown",
      "metadata": {
        "id": "view-in-github",
        "colab_type": "text"
      },
      "source": [
        "<a href=\"https://colab.research.google.com/github/231FA04430/kidney-disease-detector/blob/main/kidney_result.ipynb\" target=\"_parent\"><img src=\"https://colab.research.google.com/assets/colab-badge.svg\" alt=\"Open In Colab\"/></a>"
      ]
    },
    {
      "cell_type": "code",
      "execution_count": 1,
      "metadata": {
        "id": "vEsTiZKk5IFy",
        "colab": {
          "base_uri": "https://localhost:8080/"
        },
        "outputId": "357327df-73a5-4cd5-f59c-0e4e4ed6fb28"
      },
      "outputs": [
        {
          "name": "stdout",
          "output_type": "stream",
          "text": [
            "enter id:23\n",
            "enter age:26\n",
            "enter bp:1\n",
            "enter sg:0\n",
            "enter al:1\n",
            "enter su:0\n",
            "enter rbc:1\n",
            "enter pcc:1\n",
            "enter bgr:1\n",
            "enter bu:1\n",
            "enter sc:1\n"
          ]
        }
      ],
      "source": [
        "labels = ['id', 'age', 'bp', 'sg', 'al', 'su', 'rbc', 'pcc', 'bgr', 'bu', 'sc']\n",
        "inputs = []\n",
        "for lable in labels:\n",
        "  inputs.append(int(input('enter '+ lable + ':')))11\n",
        ""
      ]
    },
    {
      "cell_type": "code",
      "source": [
        "from keras.models import load_model\n",
        "import numpy as np\n",
        "obj = load_model('/content/heart.h5')\n",
        "\n",
        "in_array = np.array([inputs])\n",
        "result = obj.predict(in_array)\n",
        "\n",
        "if result > 0.5:\n",
        "  print(\"you will get a kidney Disease\")\n",
        "else:\n",
        "  print(\"you are safe\")"
      ],
      "metadata": {
        "colab": {
          "base_uri": "https://localhost:8080/"
        },
        "id": "NauzfTDf7E5Q",
        "outputId": "34c85f14-fcc1-4774-b96b-2b2d10779093"
      },
      "execution_count": 4,
      "outputs": [
        {
          "output_type": "stream",
          "name": "stderr",
          "text": [
            "WARNING:absl:Compiled the loaded model, but the compiled metrics have yet to be built. `model.compile_metrics` will be empty until you train or evaluate the model.\n"
          ]
        },
        {
          "output_type": "stream",
          "name": "stdout",
          "text": [
            "\u001b[1m1/1\u001b[0m \u001b[32m━━━━━━━━━━━━━━━━━━━━\u001b[0m\u001b[37m\u001b[0m \u001b[1m0s\u001b[0m 84ms/step\n",
            "you will get a kidney Disease\n"
          ]
        }
      ]
    }
  ]
}